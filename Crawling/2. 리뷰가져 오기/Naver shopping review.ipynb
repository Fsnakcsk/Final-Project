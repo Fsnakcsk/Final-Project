{
 "cells": [
  {
   "cell_type": "code",
   "execution_count": 2,
   "metadata": {},
   "outputs": [],
   "source": [
    "from selenium import webdriver\n",
    "from selenium.webdriver.common.keys import Keys\n",
    "from bs4 import BeautifulSoup\n",
    "from time import sleep\n",
    "import requests\n",
    "import re\n",
    "import pandas as pd\n",
    "import numpy as np\n",
    "import os\n",
    "\n",
    "import warnings\n",
    "warnings.filterwarnings('ignore')"
   ]
  },
  {
   "cell_type": "code",
   "execution_count": 3,
   "metadata": {},
   "outputs": [],
   "source": [
    "name=['LG 에어로타워']\n",
    "category=['별점']\n",
    "\n",
    "#LG 에어로타워 후기\n",
    "ns_address=\"https://search.shopping.naver.com/catalog/30128278618?cat_id=50002543&frm=NVSCPRO&query=%EC%97%90%EC%96%B4%EB%A1%9C%ED%83%80%EC%9B%8C&NaPm=ct%3Dl0ksn0vc%7Cci%3D5bbd25c0299ce5dbcb72ff2b1d41488ebd6d52ce%7Ctr%3Dsls%7Csn%3D95694%7Chk%3D87194ce8ced4cb2b52968022b8eb9db67602d12e\"\n",
    "\n",
    "\n",
    "#xpath\n",
    "shoppingmall_review = \"/html/body/div/div/div[2]/div[2]/div[2]/div[3]/div[6]/div[2]/div[2]/div/ul/li[4]/a\""
   ]
  },
  {
   "cell_type": "code",
   "execution_count": 7,
   "metadata": {},
   "outputs": [
    {
     "name": "stdout",
     "output_type": "stream",
     "text": [
      "3\n",
      "저렴하게 잘샀구요 곧 태어날 아가를 위해 장만 했어요\n",
      "저렴하게 잘샀구요 곧 태어날 아가를 위해 장만 했어요\n",
      "공기청정기 처음써보는거라 잘모르겟지만 기분탓인지 뭔가 쾌적해진 기분이에요 디자인도 넘예쁘규 잘 산것 같아요\n",
      "\n",
      "4\n",
      "많이 늦어질 줄 알았는데\n",
      "주문 후\n",
      "많이 늦어질 줄 알았는데\n",
      "주문 후 6일만에 도착했네요\n",
      "하이마트가 할인도 많고\n",
      "쿠폰도 포인트도 쓸 수 있고\n",
      "카드 할인까지 활용할 수 있어서\n",
      "\n",
      "                           title  \\\n",
      "0  저렴하게 잘샀구요 곧 태어날 아가를 위해 장만 했어요   \n",
      "1            많이 늦어질 줄 알았는데\\n주문 후   \n",
      "\n",
      "                                                   p  \n",
      "0  저렴하게 잘샀구요 곧 태어날 아가를 위해 장만 했어요\\n공기청정기 처음써보는거라 잘...  \n",
      "1  많이 늦어질 줄 알았는데\\n주문 후 6일만에 도착했네요\\n하이마트가 할인도 많고\\n...  \n"
     ]
    }
   ],
   "source": [
    "header = {'User-Agent': ''}\n",
    "d = webdriver.Chrome('chromedriver.exe') # webdriver = chrome\n",
    "d.implicitly_wait(3) #隐形等待， 加载完后进入， 没加载完报错超市\n",
    "d.get(ns_address)\n",
    "req = requests.get(ns_address,verify=False)\n",
    "html = req.text \n",
    "soup = BeautifulSoup(html, \"html.parser\")\n",
    "sleep(3)\n",
    "\n",
    "\n",
    "# 쇼핑몰 리뷰 보기\n",
    "d.find_element(\"xpath\", shoppingmall_review).click()\n",
    "sleep(2)\n",
    "\n",
    "# 데이터프레임 생성 (리뷰 정보 저장)\n",
    "df = pd.DataFrame()\n",
    "\n",
    "# 리뷰 가져오기\n",
    "for i in range(3, 5):\n",
    "    start = d.find_element(\"xpath\", '/html/body/div/div/div[2]/div[2]/div[2]/div[3]/div[6]/ul/li['+str(i)+']/div[2]/div/em').text\n",
    "    end = d.find_element(\"xpath\",   '/html/body/div/div/div[2]/div[2]/div[2]/div[3]/div[6]/ul/li['+str(i)+']/div[2]/div/p').text\n",
    "    dict = {\n",
    "        'title' : start,\n",
    "        'p' : end\n",
    "    }\n",
    "    \n",
    "    print(i)\n",
    "    print(start)\n",
    "    print(end)\n",
    "    print()\n",
    "    \n",
    "    df = df.append(dict, ignore_index=True) \n",
    "    \n",
    "print(df)"
   ]
  }
 ],
 "metadata": {
  "kernelspec": {
   "display_name": "base",
   "language": "python",
   "name": "python3"
  },
  "language_info": {
   "codemirror_mode": {
    "name": "ipython",
    "version": 3
   },
   "file_extension": ".py",
   "mimetype": "text/x-python",
   "name": "python",
   "nbconvert_exporter": "python",
   "pygments_lexer": "ipython3",
   "version": "3.9.7 (default, Sep 16 2021, 16:59:28) [MSC v.1916 64 bit (AMD64)]"
  },
  "orig_nbformat": 4,
  "vscode": {
   "interpreter": {
    "hash": "e4cce46d6be9934fbd27f9ca0432556941ea5bdf741d4f4d64c6cd7f8dfa8fba"
   }
  }
 },
 "nbformat": 4,
 "nbformat_minor": 2
}
