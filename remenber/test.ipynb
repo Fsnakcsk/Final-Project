{
 "cells": [
  {
   "attachments": {},
   "cell_type": "markdown",
   "metadata": {},
   "source": [
    "### 기억력 게임 OCR 결과 + DB연동"
   ]
  },
  {
   "attachments": {},
   "cell_type": "markdown",
   "metadata": {},
   "source": [
    " ### OCR 알고리즘"
   ]
  },
  {
   "cell_type": "code",
   "execution_count": 2,
   "metadata": {},
   "outputs": [
    {
     "name": "stderr",
     "output_type": "stream",
     "text": [
      "CUDA not available - defaulting to CPU. Note: This module is much faster with a GPU.\n"
     ]
    },
    {
     "name": "stdout",
     "output_type": "stream",
     "text": [
      "(3, 7)\n"
     ]
    }
   ],
   "source": [
    "import os\n",
    "os.environ['KMP_DUPLICATE_LIB_OK'] = 'TRUE'\n",
    "import easyocr\n",
    "\n",
    "def get_score(level) :\n",
    "    if str(level) == ['0']:\n",
    "        score = 1\n",
    "    elif str(level) == ['1']:\n",
    "        score = 2\n",
    "    elif str(level) == ['2']:\n",
    "        score = 3\n",
    "    elif str(level) == ['3']:\n",
    "        score = 4\n",
    "    elif str(level) == ['4']:\n",
    "        score = 5\n",
    "    elif str(level) == ['5']:\n",
    "        score = 6\n",
    "    elif str(level) == ['6']:\n",
    "        score = 7\n",
    "    elif str(level) == ['7']:\n",
    "        score = 7\n",
    "    else :\n",
    "        score = 7\n",
    "        \n",
    "    return level, score\n",
    "\n",
    "String = ''\n",
    "reader = easyocr.Reader(['ko', 'en'])\n",
    "\n",
    "with open('C:\\\\Users\\\\admin\\\\Desktop\\\\캡처.PNG','rb') as pf:\n",
    "    img = pf.read()\n",
    "    result = reader.readtext(img)\n",
    "    for res in result:\n",
    "        if res[1][0:10] == 'Your level': \n",
    "            db_List = str(res).split(\"'\")\n",
    "            level = db_List[-2][-1]\n",
    "            \n",
    "        \n",
    "result = get_score(int(level))\n",
    "print(result)\n",
    "    \n"
   ]
  },
  {
   "attachments": {},
   "cell_type": "markdown",
   "metadata": {},
   "source": [
    "### DB및 구조 생성 **생성했기 때문에 다시 사용할 필요 없다**"
   ]
  },
  {
   "cell_type": "code",
   "execution_count": 3,
   "metadata": {},
   "outputs": [],
   "source": [
    "DATABASE_URI = 'C:\\\\Users\\\\admin\\\\Desktop\\\\Github\\\\Final-Project\\\\remenber\\\\rember.db'\n",
    "\n",
    "import sqlite3 as sql\n",
    "\n",
    "conn = sql.connect('rember.db', isolation_level=None)\n",
    "cur = conn.cursor()\n",
    "cur.execute(\n",
    "    'CREATE TABLE IF NOT EXISTS remenber (level TEXT, score TEXT)')\n",
    "cur.close()"
   ]
  },
  {
   "attachments": {},
   "cell_type": "markdown",
   "metadata": {},
   "source": [
    "### 데이터 삽입"
   ]
  },
  {
   "cell_type": "code",
   "execution_count": 4,
   "metadata": {},
   "outputs": [],
   "source": [
    "DATABASE_URI = 'C:\\\\Users\\\\admin\\\\Desktop\\\\Github\\\\Final-Project\\\\remenber\\\\rember.db'\n",
    "\n",
    "conn = sql.connect(DATABASE_URI, isolation_level=None)\n",
    "cur = conn.cursor()\n",
    "cur.execute(\"\"\"INSERT INTO remenber(level, score) \n",
    "                    VALUES(?, ?)\"\"\", (result[0], result[1]))\n",
    "conn.commit()\n",
    "cur.close()"
   ]
  },
  {
   "attachments": {},
   "cell_type": "markdown",
   "metadata": {},
   "source": [
    "### 데이터 불러오기"
   ]
  },
  {
   "cell_type": "code",
   "execution_count": 5,
   "metadata": {},
   "outputs": [
    {
     "name": "stdout",
     "output_type": "stream",
     "text": [
      "3\n",
      "7\n"
     ]
    }
   ],
   "source": [
    "DATABASE_URI = 'C:\\\\Users\\\\admin\\\\Desktop\\\\Github\\\\Final-Project\\\\remenber\\\\rember.db'\n",
    "\n",
    "conn = sql.connect(DATABASE_URI, isolation_level=None)\n",
    "cur = conn.cursor()\n",
    "\n",
    "cur.execute(\"SELECT * FROM remenber\")\n",
    "db_text = str(cur.fetchmany(size=1))\n",
    "print(db_text[3])\n",
    "print(db_text[-4])\n"
   ]
  }
 ],
 "metadata": {
  "kernelspec": {
   "display_name": "Python 3",
   "language": "python",
   "name": "python3"
  },
  "language_info": {
   "codemirror_mode": {
    "name": "ipython",
    "version": 3
   },
   "file_extension": ".py",
   "mimetype": "text/x-python",
   "name": "python",
   "nbconvert_exporter": "python",
   "pygments_lexer": "ipython3",
   "version": "3.9.13"
  },
  "orig_nbformat": 4,
  "vscode": {
   "interpreter": {
    "hash": "e4cce46d6be9934fbd27f9ca0432556941ea5bdf741d4f4d64c6cd7f8dfa8fba"
   }
  }
 },
 "nbformat": 4,
 "nbformat_minor": 2
}
