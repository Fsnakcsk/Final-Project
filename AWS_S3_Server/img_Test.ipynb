{
 "cells": [
  {
   "attachments": {},
   "cell_type": "markdown",
   "metadata": {},
   "source": [
    "### 라이브러리"
   ]
  },
  {
   "cell_type": "code",
   "execution_count": null,
   "metadata": {},
   "outputs": [],
   "source": [
    "import boto3\n",
    "import os"
   ]
  },
  {
   "attachments": {},
   "cell_type": "markdown",
   "metadata": {},
   "source": [
    "### Access Key"
   ]
  },
  {
   "cell_type": "code",
   "execution_count": 6,
   "metadata": {},
   "outputs": [],
   "source": [
    "# aws_access_key_id = \"xxxx\"\n",
    "# aws_secret_access_key = \"xxxx\"\n",
    "region = \"ap-northeast-2\""
   ]
  },
  {
   "attachments": {},
   "cell_type": "markdown",
   "metadata": {},
   "source": [
    "### File Upload"
   ]
  },
  {
   "cell_type": "code",
   "execution_count": 23,
   "metadata": {},
   "outputs": [
    {
     "data": {
      "text/plain": [
       "s3.Object(bucket_name='fsn-sound', key='aaa.PNG')"
      ]
     },
     "execution_count": 23,
     "metadata": {},
     "output_type": "execute_result"
    }
   ],
   "source": [
    "# Let's use Amazon S3 접속 \n",
    "s3 = boto3.resource('s3', \n",
    "                    aws_access_key_id = \"xxxxx\",\n",
    "                    aws_secret_access_key = \"xxxxx\")\n",
    "\n",
    "# Print out bucket names\n",
    "for bucket in s3.buckets.all():\n",
    "    s3_data = bucket.name\n",
    "    \n",
    "# Upload a new file\n",
    "data = open('C:\\\\Users\\\\admin\\\\Desktop\\\\aaa.PNG', 'rb')\n",
    "s3.Bucket(s3_data).put_object(Key='aaa.PNG', Body=data)"
   ]
  },
  {
   "attachments": {},
   "cell_type": "markdown",
   "metadata": {},
   "source": [
    "### Get Aws Url file"
   ]
  },
  {
   "attachments": {},
   "cell_type": "markdown",
   "metadata": {},
   "source": [
    "https://fsn-sound.s3.ap-northeast-2.amazonaws.com/aaa.PNG"
   ]
  },
  {
   "cell_type": "code",
   "execution_count": 37,
   "metadata": {},
   "outputs": [
    {
     "name": "stdout",
     "output_type": "stream",
     "text": [
      "https://fsn-sound.s3.ap-northeast-2.amazonaws.com/aaa.PNG\n"
     ]
    }
   ],
   "source": [
    "#location = s3.get_bucket_location(Bucket='fsn-sound')['LocationConstraint']\n",
    "image_url = f'https://{\"fsn-sound\"}.s3.{\"ap-northeast-2\"}.amazonaws.com/{\"aaa.PNG\"}'\n",
    "print(image_url)"
   ]
  },
  {
   "cell_type": "code",
   "execution_count": 40,
   "metadata": {},
   "outputs": [],
   "source": [
    "# 파일 다운로드 하기\n",
    "obj_file = 'aaa.PNG'                            # 버킷에업로드된파일명.확장자\n",
    "save_file ='C:\\\\Users\\\\admin\\\\Desktop\\\\bbb.jpg' # 파일경로/저장파일명.확장자\n",
    "bucket.download_file(obj_file, save_file)"
   ]
  }
 ],
 "metadata": {
  "kernelspec": {
   "display_name": "Python 3",
   "language": "python",
   "name": "python3"
  },
  "language_info": {
   "codemirror_mode": {
    "name": "ipython",
    "version": 3
   },
   "file_extension": ".py",
   "mimetype": "text/x-python",
   "name": "python",
   "nbconvert_exporter": "python",
   "pygments_lexer": "ipython3",
   "version": "3.9.13"
  },
  "orig_nbformat": 4,
  "vscode": {
   "interpreter": {
    "hash": "e4cce46d6be9934fbd27f9ca0432556941ea5bdf741d4f4d64c6cd7f8dfa8fba"
   }
  }
 },
 "nbformat": 4,
 "nbformat_minor": 2
}
