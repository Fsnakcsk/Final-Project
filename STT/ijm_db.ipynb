{
 "cells": [
  {
   "attachments": {},
   "cell_type": "markdown",
   "metadata": {},
   "source": [
    "# sql 연동 및 DB 만들기"
   ]
  },
  {
   "cell_type": "code",
   "execution_count": 7,
   "metadata": {},
   "outputs": [],
   "source": [
    "import sqlite3\n",
    "import os"
   ]
  },
  {
   "cell_type": "code",
   "execution_count": 47,
   "metadata": {},
   "outputs": [],
   "source": [
    "# DB 생성 \n",
    "# isolation_level = None (auto commit)\n",
    "conn = sqlite3.connect('ijm.db', isolation_level=None)\n",
    "\n",
    "# 커서\n",
    "cursor = conn.cursor()\n",
    "\n",
    "# 테이블 생성(데이터 타입 = TEST, NUMERIC, INTEGER, REAL, BLOB(image) 등)\n",
    "# 필드명(ex. name) -> 데이터 타입(ex. text) 순서로 입력 \n",
    "cursor.execute(\"\"\"\n",
    "CREATE TABLE IF NOT EXISTS wrong_test (id INTEGER PRIMARY KEY AUTOINCREMENT NOT NULL,\n",
    "text TEXT,\n",
    "right1 BLOB,\n",
    "right2 BLOB,\n",
    "right3 BLOB,\n",
    "worng BLOB)\"\"\")\n",
    "\n",
    "conn.commit()\n",
    "cursor.close()\n",
    "conn.close()"
   ]
  },
  {
   "attachments": {},
   "cell_type": "markdown",
   "metadata": {},
   "source": [
    "# 테이블에 정보넣기"
   ]
  },
  {
   "cell_type": "code",
   "execution_count": 43,
   "metadata": {},
   "outputs": [],
   "source": [
    "conn = sqlite3.connect('ijm.db', isolation_level=None)\n",
    "\n",
    "# 커서\n",
    "cursor = conn.cursor()\n",
    "text_list = ['나비','컴퓨터','지렁이']\n",
    "for i in text_list:\n",
    "    text = str(i)\n",
    "    root = 'C:\\\\Users\\\\admin\\\\Desktop\\\\최종 프로젝트\\\\틀린그림찾기\\\\'+ text\n",
    "    a = os.listdir(root)\n",
    "    file_root = []\n",
    "    for file in a:\n",
    "        file_root.append(root + '\\\\' + file)\n",
    "    right1 = file_root[0]\n",
    "    right2 = file_root[1]\n",
    "    right3 = file_root[2]\n",
    "    worng = file_root[3]\n",
    "    cursor.execute(\"\"\"\n",
    "    INSERT INTO wrong_test (text, right1, right2, right3, worng) VALUES (?,?,?,?,?)          \n",
    "    \"\"\", (text, right1, right2, right3, worng)\n",
    "    )\n",
    "\n",
    "conn.commit()\n",
    "cursor.close()\n",
    "conn.close()    \n"
   ]
  },
  {
   "cell_type": "code",
   "execution_count": 14,
   "metadata": {},
   "outputs": [
    {
     "data": {
      "image/png": "[encoded data removed]",
      "text/plain": [
       "<PIL.PngImagePlugin.PngImageFile image mode=RGBA size=235x234>"
      ]
     },
     "execution_count": 14,
     "metadata": {},
     "output_type": "execute_result"
    }
   ],
   "source": [
    "#from PIL import Image\n",
    "\n",
    "#Image.open(b[0])"
   ]
  },
  {
   "cell_type": "code",
   "execution_count": 48,
   "metadata": {},
   "outputs": [],
   "source": [
    "\n",
    "conn = sqlite3.connect('ijm.db', isolation_level=None)\n",
    "\n",
    "# 커서\n",
    "cursor = conn.cursor()\n",
    "\n",
    "param = '나비'\n",
    "m = cursor.execute(\"SELECT * FROM wrong_test WHERE text = '%s'\" % param) # where 절 이용해서 원하는 row만 선택 \n",
    "\n",
    "for x in m:\n",
    "    # print(x[4]) #x[4] = image\n",
    "    rec_d1 = x[2] #right1\n",
    "    rec_d2 = x[3] #right2\n",
    "    rec_d3 = x[4] #right3\n",
    "    rec_d4 = x[5] #wrong\n",
    "with open('C:\\Users\\admin\\Desktop\\worng_test', 'wb') as f:  # DB에서 원하는 row의 image 데이터 불러와서 'dog1.png'이름으로 저장\n",
    "    f.write(rec_d1)\n",
    "with open('C:\\Users\\admin\\Desktop\\worng_test', 'wb') as f:  # DB에서 원하는 row의 image 데이터 불러와서 'dog1.png'이름으로 저장\n",
    "    f.write(rec_d2)\n",
    "with open('C:\\Users\\admin\\Desktop\\worng_test', 'wb') as f:  # DB에서 원하는 row의 image 데이터 불러와서 'dog1.png'이름으로 저장\n",
    "    f.write(rec_d3)\n",
    "with open('C:\\Users\\admin\\Desktop\\worng_test', 'wb') as f:  # DB에서 원하는 row의 image 데이터 불러와서 'dog1.png'이름으로 저장\n",
    "    f.write(rec_d4)\n",
    "\n",
    "    \n",
    "\n",
    "conn.commit()\n",
    "cursor.close()\n",
    "conn.close()\n",
    "\n",
    "      \n"
   ]
  },
  {
   "cell_type": "code",
   "execution_count": null,
   "metadata": {},
   "outputs": [],
   "source": []
  }
 ],
 "metadata": {
  "kernelspec": {
   "display_name": "Python 3",
   "language": "python",
   "name": "python3"
  },
  "language_info": {
   "codemirror_mode": {
    "name": "ipython",
    "version": 3
   },
   "file_extension": ".py",
   "mimetype": "text/x-python",
   "name": "python",
   "nbconvert_exporter": "python",
   "pygments_lexer": "ipython3",
   "version": "3.9.7 (default, Sep 16 2021, 16:59:28) [MSC v.1916 64 bit (AMD64)]"
  },
  "orig_nbformat": 4,
  "vscode": {
   "interpreter": {
    "hash": "e4cce46d6be9934fbd27f9ca0432556941ea5bdf741d4f4d64c6cd7f8dfa8fba"
   }
  }
 },
 "nbformat": 4,
 "nbformat_minor": 2
}
