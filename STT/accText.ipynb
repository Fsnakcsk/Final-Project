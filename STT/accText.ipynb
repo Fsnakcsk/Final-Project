{
 "cells": [
  {
   "cell_type": "code",
   "execution_count": 11,
   "metadata": {},
   "outputs": [
    {
     "name": "stdout",
     "output_type": "stream",
     "text": [
      "[responseCode] 200\n",
      "[responBody]\n",
      "{\"result\":\"0\",\"return_type\":\"com.google.gson.internal.LinkedTreeMap\",\"return_object\":{\"result\":\"not paraphrase\"}}\n"
     ]
    }
   ],
   "source": [
    "import urllib3\n",
    "import json\n",
    "\n",
    "openApiURL = \"http://aiopen.etri.re.kr:8000/ParaphraseQA\"\n",
    "accessKey = \"f0f9fd15-daef-4655-b516-d7a9711c696a\"\n",
    "sentence1 = \"사고방식이 다르다\"\n",
    "sentence2 = \"스타일이 다르다\"\n",
    "\n",
    "requestJson = {\n",
    "\"argument\": {\n",
    "    \"sentence1\": sentence1 ,\n",
    "    \"sentence2\": sentence2\n",
    "    }\n",
    "}\n",
    "\n",
    "http = urllib3.PoolManager()\n",
    "response = http.request(\n",
    "    \"POST\",\n",
    "    openApiURL,\n",
    "    headers={\"Content-Type\": \"application/json; charset=UTF-8\",\"Authorization\" :  accessKey},\n",
    "    body=json.dumps(requestJson)\n",
    ")\n",
    "\n",
    "print(\"[responseCode] \" + str(response.status))\n",
    "print(\"[responBody]\")\n",
    "print(str(response.data,\"utf-8\"))\n",
    "\n",
    "#{\"result\":\"0\",\"return_type\":\"com.google.gson.internal.LinkedTreeMap\",\"return_object\":{\"result\":\"paraphrase\"}}"
   ]
  }
 ],
 "metadata": {
  "kernelspec": {
   "display_name": "base",
   "language": "python",
   "name": "python3"
  },
  "language_info": {
   "codemirror_mode": {
    "name": "ipython",
    "version": 3
   },
   "file_extension": ".py",
   "mimetype": "text/x-python",
   "name": "python",
   "nbconvert_exporter": "python",
   "pygments_lexer": "ipython3",
   "version": "3.9.7 (default, Sep 16 2021, 16:59:28) [MSC v.1916 64 bit (AMD64)]"
  },
  "orig_nbformat": 4,
  "vscode": {
   "interpreter": {
    "hash": "e4cce46d6be9934fbd27f9ca0432556941ea5bdf741d4f4d64c6cd7f8dfa8fba"
   }
  }
 },
 "nbformat": 4,
 "nbformat_minor": 2
}
